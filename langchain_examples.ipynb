{
 "cells": [
  {
   "cell_type": "markdown",
   "metadata": {},
   "source": [
    "### LangChain\n",
    "\n",
    "LangChain is een open source framework voor het gebruiken van Large Language Models (LLM's). Het idee achter LangChain is dat je verschillende componenten aan elkaar kan koppelen (chaining) zodat je geavanceerde use cases kan ontwikkelen met LLM's. De belangrijkste componenten van deze chains voor deze workshop zijn:\n",
    "1. Promt templates\n",
    "2. LLM's."
   ]
  },
  {
   "cell_type": "code",
   "execution_count": 1,
   "metadata": {},
   "outputs": [
    {
     "name": "stdout",
     "output_type": "stream",
     "text": [
      "Requirement already satisfied: langchain in /Users/christopherspelt/.pyenv/versions/3.11.0/lib/python3.11/site-packages (0.0.335)\n",
      "Requirement already satisfied: PyYAML>=5.3 in /Users/christopherspelt/.pyenv/versions/3.11.0/lib/python3.11/site-packages (from langchain) (6.0)\n",
      "Requirement already satisfied: SQLAlchemy<3,>=1.4 in /Users/christopherspelt/.pyenv/versions/3.11.0/lib/python3.11/site-packages (from langchain) (2.0.23)\n",
      "Requirement already satisfied: aiohttp<4.0.0,>=3.8.3 in /Users/christopherspelt/.pyenv/versions/3.11.0/lib/python3.11/site-packages (from langchain) (3.8.6)\n",
      "Requirement already satisfied: anyio<4.0 in /Users/christopherspelt/.pyenv/versions/3.11.0/lib/python3.11/site-packages (from langchain) (3.7.1)\n",
      "Requirement already satisfied: dataclasses-json<0.7,>=0.5.7 in /Users/christopherspelt/.pyenv/versions/3.11.0/lib/python3.11/site-packages (from langchain) (0.6.2)\n",
      "Requirement already satisfied: jsonpatch<2.0,>=1.33 in /Users/christopherspelt/.pyenv/versions/3.11.0/lib/python3.11/site-packages (from langchain) (1.33)\n",
      "Requirement already satisfied: langsmith<0.1.0,>=0.0.63 in /Users/christopherspelt/.pyenv/versions/3.11.0/lib/python3.11/site-packages (from langchain) (0.0.64)\n",
      "Requirement already satisfied: numpy<2,>=1 in /Users/christopherspelt/.pyenv/versions/3.11.0/lib/python3.11/site-packages (from langchain) (1.24.1)\n",
      "Requirement already satisfied: pydantic<3,>=1 in /Users/christopherspelt/.pyenv/versions/3.11.0/lib/python3.11/site-packages (from langchain) (2.5.0)\n",
      "Requirement already satisfied: requests<3,>=2 in /Users/christopherspelt/.pyenv/versions/3.11.0/lib/python3.11/site-packages (from langchain) (2.31.0)\n",
      "Requirement already satisfied: tenacity<9.0.0,>=8.1.0 in /Users/christopherspelt/.pyenv/versions/3.11.0/lib/python3.11/site-packages (from langchain) (8.2.3)\n",
      "Requirement already satisfied: attrs>=17.3.0 in /Users/christopherspelt/.pyenv/versions/3.11.0/lib/python3.11/site-packages (from aiohttp<4.0.0,>=3.8.3->langchain) (22.2.0)\n",
      "Requirement already satisfied: charset-normalizer<4.0,>=2.0 in /Users/christopherspelt/.pyenv/versions/3.11.0/lib/python3.11/site-packages (from aiohttp<4.0.0,>=3.8.3->langchain) (3.1.0)\n",
      "Requirement already satisfied: multidict<7.0,>=4.5 in /Users/christopherspelt/.pyenv/versions/3.11.0/lib/python3.11/site-packages (from aiohttp<4.0.0,>=3.8.3->langchain) (6.0.4)\n",
      "Requirement already satisfied: async-timeout<5.0,>=4.0.0a3 in /Users/christopherspelt/.pyenv/versions/3.11.0/lib/python3.11/site-packages (from aiohttp<4.0.0,>=3.8.3->langchain) (4.0.3)\n",
      "Requirement already satisfied: yarl<2.0,>=1.0 in /Users/christopherspelt/.pyenv/versions/3.11.0/lib/python3.11/site-packages (from aiohttp<4.0.0,>=3.8.3->langchain) (1.9.2)\n",
      "Requirement already satisfied: frozenlist>=1.1.1 in /Users/christopherspelt/.pyenv/versions/3.11.0/lib/python3.11/site-packages (from aiohttp<4.0.0,>=3.8.3->langchain) (1.4.0)\n",
      "Requirement already satisfied: aiosignal>=1.1.2 in /Users/christopherspelt/.pyenv/versions/3.11.0/lib/python3.11/site-packages (from aiohttp<4.0.0,>=3.8.3->langchain) (1.3.1)\n",
      "Requirement already satisfied: idna>=2.8 in /Users/christopherspelt/.pyenv/versions/3.11.0/lib/python3.11/site-packages (from anyio<4.0->langchain) (3.4)\n",
      "Requirement already satisfied: sniffio>=1.1 in /Users/christopherspelt/.pyenv/versions/3.11.0/lib/python3.11/site-packages (from anyio<4.0->langchain) (1.3.0)\n",
      "Requirement already satisfied: marshmallow<4.0.0,>=3.18.0 in /Users/christopherspelt/.pyenv/versions/3.11.0/lib/python3.11/site-packages (from dataclasses-json<0.7,>=0.5.7->langchain) (3.20.1)\n",
      "Requirement already satisfied: typing-inspect<1,>=0.4.0 in /Users/christopherspelt/.pyenv/versions/3.11.0/lib/python3.11/site-packages (from dataclasses-json<0.7,>=0.5.7->langchain) (0.9.0)\n",
      "Requirement already satisfied: jsonpointer>=1.9 in /Users/christopherspelt/.pyenv/versions/3.11.0/lib/python3.11/site-packages (from jsonpatch<2.0,>=1.33->langchain) (2.4)\n",
      "Requirement already satisfied: annotated-types>=0.4.0 in /Users/christopherspelt/.pyenv/versions/3.11.0/lib/python3.11/site-packages (from pydantic<3,>=1->langchain) (0.6.0)\n",
      "Requirement already satisfied: pydantic-core==2.14.1 in /Users/christopherspelt/.pyenv/versions/3.11.0/lib/python3.11/site-packages (from pydantic<3,>=1->langchain) (2.14.1)\n",
      "Requirement already satisfied: typing-extensions>=4.6.1 in /Users/christopherspelt/.pyenv/versions/3.11.0/lib/python3.11/site-packages (from pydantic<3,>=1->langchain) (4.8.0)\n",
      "Requirement already satisfied: urllib3<3,>=1.21.1 in /Users/christopherspelt/.pyenv/versions/3.11.0/lib/python3.11/site-packages (from requests<3,>=2->langchain) (1.26.15)\n",
      "Requirement already satisfied: certifi>=2017.4.17 in /Users/christopherspelt/.pyenv/versions/3.11.0/lib/python3.11/site-packages (from requests<3,>=2->langchain) (2022.12.7)\n",
      "Requirement already satisfied: greenlet!=0.4.17 in /Users/christopherspelt/.pyenv/versions/3.11.0/lib/python3.11/site-packages (from SQLAlchemy<3,>=1.4->langchain) (3.0.1)\n",
      "Requirement already satisfied: packaging>=17.0 in /Users/christopherspelt/.pyenv/versions/3.11.0/lib/python3.11/site-packages (from marshmallow<4.0.0,>=3.18.0->dataclasses-json<0.7,>=0.5.7->langchain) (23.0)\n",
      "Requirement already satisfied: mypy-extensions>=0.3.0 in /Users/christopherspelt/.pyenv/versions/3.11.0/lib/python3.11/site-packages (from typing-inspect<1,>=0.4.0->dataclasses-json<0.7,>=0.5.7->langchain) (1.0.0)\n",
      "Requirement already satisfied: openai in /Users/christopherspelt/.pyenv/versions/3.11.0/lib/python3.11/site-packages (1.2.4)\n",
      "Requirement already satisfied: anyio<4,>=3.5.0 in /Users/christopherspelt/.pyenv/versions/3.11.0/lib/python3.11/site-packages (from openai) (3.7.1)\n",
      "Requirement already satisfied: distro<2,>=1.7.0 in /Users/christopherspelt/.pyenv/versions/3.11.0/lib/python3.11/site-packages (from openai) (1.8.0)\n",
      "Requirement already satisfied: httpx<1,>=0.23.0 in /Users/christopherspelt/.pyenv/versions/3.11.0/lib/python3.11/site-packages (from openai) (0.25.1)\n",
      "Requirement already satisfied: pydantic<3,>=1.9.0 in /Users/christopherspelt/.pyenv/versions/3.11.0/lib/python3.11/site-packages (from openai) (2.5.0)\n",
      "Requirement already satisfied: tqdm>4 in /Users/christopherspelt/.pyenv/versions/3.11.0/lib/python3.11/site-packages (from openai) (4.65.0)\n",
      "Requirement already satisfied: typing-extensions<5,>=4.5 in /Users/christopherspelt/.pyenv/versions/3.11.0/lib/python3.11/site-packages (from openai) (4.8.0)\n",
      "Requirement already satisfied: idna>=2.8 in /Users/christopherspelt/.pyenv/versions/3.11.0/lib/python3.11/site-packages (from anyio<4,>=3.5.0->openai) (3.4)\n",
      "Requirement already satisfied: sniffio>=1.1 in /Users/christopherspelt/.pyenv/versions/3.11.0/lib/python3.11/site-packages (from anyio<4,>=3.5.0->openai) (1.3.0)\n",
      "Requirement already satisfied: certifi in /Users/christopherspelt/.pyenv/versions/3.11.0/lib/python3.11/site-packages (from httpx<1,>=0.23.0->openai) (2022.12.7)\n",
      "Requirement already satisfied: httpcore in /Users/christopherspelt/.pyenv/versions/3.11.0/lib/python3.11/site-packages (from httpx<1,>=0.23.0->openai) (1.0.2)\n",
      "Requirement already satisfied: annotated-types>=0.4.0 in /Users/christopherspelt/.pyenv/versions/3.11.0/lib/python3.11/site-packages (from pydantic<3,>=1.9.0->openai) (0.6.0)\n",
      "Requirement already satisfied: pydantic-core==2.14.1 in /Users/christopherspelt/.pyenv/versions/3.11.0/lib/python3.11/site-packages (from pydantic<3,>=1.9.0->openai) (2.14.1)\n",
      "Requirement already satisfied: h11<0.15,>=0.13 in /Users/christopherspelt/.pyenv/versions/3.11.0/lib/python3.11/site-packages (from httpcore->httpx<1,>=0.23.0->openai) (0.14.0)\n",
      "Requirement already satisfied: python-dotenv in /Users/christopherspelt/.pyenv/versions/3.11.0/lib/python3.11/site-packages (0.21.1)\n"
     ]
    }
   ],
   "source": [
    "!pip install langchain\n",
    "!pip install openai\n",
    "!pip install python-dotenv"
   ]
  },
  {
   "cell_type": "code",
   "execution_count": 2,
   "metadata": {},
   "outputs": [
    {
     "data": {
      "text/plain": [
       "True"
      ]
     },
     "execution_count": 2,
     "metadata": {},
     "output_type": "execute_result"
    }
   ],
   "source": [
    "from dotenv import load_dotenv\n",
    "import os\n",
    "\n",
    "load_dotenv()"
   ]
  },
  {
   "cell_type": "code",
   "execution_count": 3,
   "metadata": {},
   "outputs": [
    {
     "name": "stdout",
     "output_type": "stream",
     "text": [
      " Voorbeelden van spin +1/2 elementaire deeltjes zijn onder andere elektronen, positronen, quarks en neutrino's.\n"
     ]
    }
   ],
   "source": [
    "from langchain import OpenAI, PromptTemplate, LLMChain\n",
    "\n",
    "# Basis template voor het beantwoorden van een vraag.\n",
    "template = \"\"\"Vraag: {query}\n",
    "\n",
    "Antwoord:\"\"\"\n",
    "\n",
    "# Creeeren van een promt template op basis van het bovenstaande template.\n",
    "prompt = PromptTemplate(template=template, input_variables=[\"query\"])\n",
    "\n",
    "# Het specificeren van een te gebruiken LLM.\n",
    "gpt = OpenAI(model_name=\"gpt-3.5-turbo-instruct\")\n",
    "\n",
    "# Een Chain generen op basis van het promt template en de LLM om een vraag te beantwoorden.\n",
    "llm_chain = LLMChain(prompt=prompt, llm=gpt)\n",
    "\n",
    "# Een vraag stellen.\n",
    "question = \"Geef voorbeelden van spin +1/2 elementaire deeltjes.\"\n",
    "print(llm_chain.run(question))"
   ]
  },
  {
   "cell_type": "markdown",
   "metadata": {},
   "source": [
    "### Prompt templates ontwerpen in LangChain\n",
    "\n",
    "Prompts bevatten vaak een of meer van de volgende componenten:\n",
    "- *Instructie*. Uitleg aan het model wat het moet doen: hoe het externe informatie moet verwerken (indien van toepassing), wat te doen met de query en hoe het een output moet construeren. \n",
    "- *Context*. Exterene bronnen van informatie toevoegen, bijvoorbeeld vanuit een vector database (RAG).\n",
    "- *Gebruikersinput*. Dit is de input in het systeem van de gebruiker.\n",
    "- *Outputindicator*. Dit is het begin van de door het model te genereren tekst."
   ]
  },
  {
   "cell_type": "code",
   "execution_count": 4,
   "metadata": {},
   "outputs": [
    {
     "name": "stdout",
     "output_type": "stream",
     "text": [
      "Beantwoord de vraag op basis van de hieronder gegeven context.\n",
      "Als je de vraag niet kan beantwoorden met de gegeven context, antwoord dan 'Ik weet het antwoord niet'. Ga niet\n",
      "zelf een antwoord verzinnen, als je de vraag niet kunt beantwoorden met de gegeven context.\n",
      "\n",
      "Context: DICTU is een van de grootste ICT-dienstverleners binnen de Rijksoverheid. \n",
      "Ruim 1.800 gedreven professionals werken in Den Haag, Assen en Zwolle vol enthousiasme en met focus \n",
      "op de klant aan voor Nederland belangrijke IT-systemen.\n",
      "DICTU legt zich toe op het ontwikkelen en beheren van systemen en applicaties en de bijbehorende dienstverlening. \n",
      "Dat kunnen bedrijfsvoeringsapplicaties, websites en apps zijn, maar ook digitale werkplekken en applicaties op \n",
      "het gebied van subsidies, inspecties en registers. Wij maken daarbij gebruik van moderne technieken en \n",
      "ontwikkelingen zoals Cloud, Mobile en Big Data.\n",
      "\n",
      "Vraag: Waar heeft DICTU kantoren?\n",
      "\n",
      "Antwoord: \n"
     ]
    }
   ],
   "source": [
    "template = \"\"\"Beantwoord de vraag op basis van de hieronder gegeven context.\n",
    "Als je de vraag niet kan beantwoorden met de gegeven context, antwoord dan 'Ik weet het antwoord niet'. Ga niet\n",
    "zelf een antwoord verzinnen, als je de vraag niet kunt beantwoorden met de gegeven context.\n",
    "\n",
    "Context: DICTU is een van de grootste ICT-dienstverleners binnen de Rijksoverheid. \n",
    "Ruim 1.800 gedreven professionals werken in Den Haag, Assen en Zwolle vol enthousiasme en met focus \n",
    "op de klant aan voor Nederland belangrijke IT-systemen.\n",
    "DICTU legt zich toe op het ontwikkelen en beheren van systemen en applicaties en de bijbehorende dienstverlening. \n",
    "Dat kunnen bedrijfsvoeringsapplicaties, websites en apps zijn, maar ook digitale werkplekken en applicaties op \n",
    "het gebied van subsidies, inspecties en registers. Wij maken daarbij gebruik van moderne technieken en \n",
    "ontwikkelingen zoals Cloud, Mobile en Big Data.\n",
    "\n",
    "Vraag: {query}\n",
    "\n",
    "Antwoord: \"\"\"\n",
    "\n",
    "prompt_template = PromptTemplate(input_variables=[\"query\"], template=template)\n",
    "print(prompt_template.format(query=\"Waar heeft DICTU kantoren?\"))"
   ]
  },
  {
   "cell_type": "code",
   "execution_count": 5,
   "metadata": {},
   "outputs": [
    {
     "name": "stdout",
     "output_type": "stream",
     "text": [
      "Vraag: Wat doet DICTU?\n",
      "Antwoord: DICTU legt zich toe op het ontwikkelen en beheren van systemen en applicaties en de bijbehorende dienstverlening.\n",
      "\n"
     ]
    }
   ],
   "source": [
    "llm_chain = LLMChain(prompt=prompt_template, llm=gpt)\n",
    "\n",
    "question = \"Wat doet DICTU?\"\n",
    "print(f\"Vraag: {question}\\nAntwoord: {llm_chain.run(question)}\\n\")"
   ]
  },
  {
   "cell_type": "code",
   "execution_count": 6,
   "metadata": {},
   "outputs": [
    {
     "name": "stdout",
     "output_type": "stream",
     "text": [
      "Vraag: Wat doet de RVO?\n",
      "Antwoord: Ik weet het antwoord niet.\n",
      "\n"
     ]
    }
   ],
   "source": [
    "question = \"Wat doet de RVO?\"\n",
    "answer = llm_chain.run(question)\n",
    "print(f\"Vraag: {question}\\nAntwoord: {llm_chain.run(question)}\\n\")"
   ]
  },
  {
   "cell_type": "markdown",
   "metadata": {},
   "source": [
    "#### Few shot prompt template"
   ]
  },
  {
   "cell_type": "code",
   "execution_count": 7,
   "metadata": {},
   "outputs": [
    {
     "name": "stdout",
     "output_type": "stream",
     "text": [
      "Hier zijn voorbeelden van een gesprek tussen een AI en een gebruiker. \n",
      "De AI helpt de gebruiker met het classificeren van het sentiment van filmreviews. \n",
      "Gegeven een filmreview van de gebruiker antwoord de AI met alleen met een van de woorden 'Positief' of 'Negatief'. \n",
      "'Positief' als de review positief is en 'Negatief' als de review negatief is. Geef antwoorden zoals deze AI.\n",
      "\n",
      "\n",
      "Gebruiker: Deze film was walgelijk!\n",
      "AI: Negatief\n",
      "\n",
      "\n",
      "\n",
      "Gebruiker: Deze film was geweldig\n",
      "AI: Positief\n",
      "\n",
      "\n",
      "\n",
      "Gebruiker: Ik vond hem erg goed\n",
      "AI: Positief\n",
      "\n",
      "\n",
      "\n",
      "Gebruiker: Positief\n",
      "AI: Positief\n",
      "\n",
      "\n",
      "\n",
      "Gebruiker: Negatief\n",
      "AI: Negatief\n",
      "\n",
      "\n",
      "\n",
      "Gebruiker: Dit was zo'n slechte film\n",
      "AI: Negatief\n",
      "\n",
      "\n",
      "\n",
      "Gebruiker: Halverwege stopte ik met kijken\n",
      "AI: Negatief\n",
      "\n",
      "\n",
      "\n",
      "Gebruiker: Het was echt slecht\n",
      "AI: Negatief\n",
      "\n",
      "\n",
      "\n",
      "Gebruiker: Geweldige film!\n",
      "AI: \n"
     ]
    }
   ],
   "source": [
    "from langchain import FewShotPromptTemplate\n",
    "\n",
    "examples = [\n",
    "    {\"query\": \"Deze film was walgelijk!\",\n",
    "     \"answer\": \"Negatief\"\n",
    "    },\n",
    "    {\"query\": \"Deze film was geweldig\",\n",
    "     \"answer\": \"Positief\"\n",
    "    },\n",
    "    {\"query\": \"Ik vond hem erg goed\",\n",
    "     \"answer\": \"Positief\"\n",
    "    },\n",
    "    {\"query\": \"Positief\",\n",
    "     \"answer\": \"Positief\"\n",
    "    },\n",
    "    {\"query\": \"Negatief\",\n",
    "     \"answer\": \"Negatief\"\n",
    "    },\n",
    "    {\"query\": \"Dit was zo'n slechte film\",\n",
    "     \"answer\": \"Negatief\"\n",
    "    },\n",
    "    {\"query\": \"Halverwege stopte ik met kijken\",\n",
    "     \"answer\": \"Negatief\"\n",
    "    },\n",
    "    {\"query\": \"Het was echt slecht\",\n",
    "     \"answer\": \"Negatief\"\n",
    "    }\n",
    "]\n",
    "\n",
    "example_template = \"\"\"\n",
    "Gebruiker: {query}\n",
    "AI: {answer}\n",
    "\"\"\"\n",
    "example_prompt  = PromptTemplate(input_variables=[\"query\", \"answer\"], template=example_template)\n",
    "\n",
    "prefix = \"\"\"Hier zijn voorbeelden van een gesprek tussen een AI en een gebruiker. \n",
    "De AI helpt de gebruiker met het classificeren van het sentiment van filmreviews. \n",
    "Gegeven een filmreview van de gebruiker antwoord de AI met alleen met een van de woorden 'Positief' of 'Negatief'. \n",
    "'Positief' als de review positief is en 'Negatief' als de review negatief is. Geef antwoorden zoals deze AI.\"\"\"\n",
    "\n",
    "suffix = \"\"\"\n",
    "Gebruiker: {query}\n",
    "AI: \"\"\"\n",
    "\n",
    "few_shot_prompting_template = FewShotPromptTemplate(\n",
    "    examples=examples,\n",
    "    example_prompt=example_prompt,\n",
    "    prefix=prefix,\n",
    "    suffix=suffix,\n",
    "    input_variables=[\"query\"],\n",
    "    example_separator=\"\\n\\n\"\n",
    ")\n",
    "print(few_shot_prompting_template.format(query=\"Geweldige film!\"))"
   ]
  },
  {
   "cell_type": "code",
   "execution_count": 8,
   "metadata": {},
   "outputs": [
    {
     "name": "stdout",
     "output_type": "stream",
     "text": [
      "Positief\n"
     ]
    }
   ],
   "source": [
    "query = \"In jaren heb ik niet zo'n goede film gezien\"\n",
    "llm_chain = LLMChain(prompt=few_shot_prompting_template, llm=gpt)\n",
    "answer = llm_chain.run(query)\n",
    "print(answer)"
   ]
  },
  {
   "cell_type": "markdown",
   "metadata": {},
   "source": [
    "### Vector Databases\n",
    "\n",
    "Een mooi en simpel voorbeeld van een vectordatabase gebruik makend van LangChain en Pinecone is hier te volgen: https://github.com/pinecone-io/examples/blob/master/learn/generation/langchain/handbook/05-langchain-retrieval-augmentation.ipynb"
   ]
  },
  {
   "cell_type": "code",
   "execution_count": 9,
   "metadata": {},
   "outputs": [
    {
     "name": "stdout",
     "output_type": "stream",
     "text": [
      "Requirement already satisfied: datasets in /Users/christopherspelt/.pyenv/versions/3.11.0/lib/python3.11/site-packages (2.15.0)\n",
      "Requirement already satisfied: numpy>=1.17 in /Users/christopherspelt/.pyenv/versions/3.11.0/lib/python3.11/site-packages (from datasets) (1.24.1)\n",
      "Requirement already satisfied: pyarrow>=8.0.0 in /Users/christopherspelt/.pyenv/versions/3.11.0/lib/python3.11/site-packages (from datasets) (14.0.1)\n",
      "Requirement already satisfied: pyarrow-hotfix in /Users/christopherspelt/.pyenv/versions/3.11.0/lib/python3.11/site-packages (from datasets) (0.5)\n",
      "Requirement already satisfied: dill<0.3.8,>=0.3.0 in /Users/christopherspelt/.pyenv/versions/3.11.0/lib/python3.11/site-packages (from datasets) (0.3.7)\n",
      "Requirement already satisfied: pandas in /Users/christopherspelt/.pyenv/versions/3.11.0/lib/python3.11/site-packages (from datasets) (1.5.3)\n",
      "Requirement already satisfied: requests>=2.19.0 in /Users/christopherspelt/.pyenv/versions/3.11.0/lib/python3.11/site-packages (from datasets) (2.31.0)\n",
      "Requirement already satisfied: tqdm>=4.62.1 in /Users/christopherspelt/.pyenv/versions/3.11.0/lib/python3.11/site-packages (from datasets) (4.65.0)\n",
      "Requirement already satisfied: xxhash in /Users/christopherspelt/.pyenv/versions/3.11.0/lib/python3.11/site-packages (from datasets) (3.4.1)\n",
      "Requirement already satisfied: multiprocess in /Users/christopherspelt/.pyenv/versions/3.11.0/lib/python3.11/site-packages (from datasets) (0.70.15)\n",
      "Requirement already satisfied: fsspec<=2023.10.0,>=2023.1.0 in /Users/christopherspelt/.pyenv/versions/3.11.0/lib/python3.11/site-packages (from fsspec[http]<=2023.10.0,>=2023.1.0->datasets) (2023.10.0)\n",
      "Requirement already satisfied: aiohttp in /Users/christopherspelt/.pyenv/versions/3.11.0/lib/python3.11/site-packages (from datasets) (3.8.6)\n",
      "Requirement already satisfied: huggingface-hub>=0.18.0 in /Users/christopherspelt/.pyenv/versions/3.11.0/lib/python3.11/site-packages (from datasets) (0.19.3)\n",
      "Requirement already satisfied: packaging in /Users/christopherspelt/.pyenv/versions/3.11.0/lib/python3.11/site-packages (from datasets) (23.0)\n",
      "Requirement already satisfied: pyyaml>=5.1 in /Users/christopherspelt/.pyenv/versions/3.11.0/lib/python3.11/site-packages (from datasets) (6.0)\n",
      "Requirement already satisfied: attrs>=17.3.0 in /Users/christopherspelt/.pyenv/versions/3.11.0/lib/python3.11/site-packages (from aiohttp->datasets) (22.2.0)\n",
      "Requirement already satisfied: charset-normalizer<4.0,>=2.0 in /Users/christopherspelt/.pyenv/versions/3.11.0/lib/python3.11/site-packages (from aiohttp->datasets) (3.1.0)\n",
      "Requirement already satisfied: multidict<7.0,>=4.5 in /Users/christopherspelt/.pyenv/versions/3.11.0/lib/python3.11/site-packages (from aiohttp->datasets) (6.0.4)\n",
      "Requirement already satisfied: async-timeout<5.0,>=4.0.0a3 in /Users/christopherspelt/.pyenv/versions/3.11.0/lib/python3.11/site-packages (from aiohttp->datasets) (4.0.3)\n",
      "Requirement already satisfied: yarl<2.0,>=1.0 in /Users/christopherspelt/.pyenv/versions/3.11.0/lib/python3.11/site-packages (from aiohttp->datasets) (1.9.2)\n",
      "Requirement already satisfied: frozenlist>=1.1.1 in /Users/christopherspelt/.pyenv/versions/3.11.0/lib/python3.11/site-packages (from aiohttp->datasets) (1.4.0)\n",
      "Requirement already satisfied: aiosignal>=1.1.2 in /Users/christopherspelt/.pyenv/versions/3.11.0/lib/python3.11/site-packages (from aiohttp->datasets) (1.3.1)\n",
      "Requirement already satisfied: filelock in /Users/christopherspelt/.pyenv/versions/3.11.0/lib/python3.11/site-packages (from huggingface-hub>=0.18.0->datasets) (3.10.7)\n",
      "Requirement already satisfied: typing-extensions>=3.7.4.3 in /Users/christopherspelt/.pyenv/versions/3.11.0/lib/python3.11/site-packages (from huggingface-hub>=0.18.0->datasets) (4.8.0)\n",
      "Requirement already satisfied: idna<4,>=2.5 in /Users/christopherspelt/.pyenv/versions/3.11.0/lib/python3.11/site-packages (from requests>=2.19.0->datasets) (3.4)\n",
      "Requirement already satisfied: urllib3<3,>=1.21.1 in /Users/christopherspelt/.pyenv/versions/3.11.0/lib/python3.11/site-packages (from requests>=2.19.0->datasets) (1.26.15)\n",
      "Requirement already satisfied: certifi>=2017.4.17 in /Users/christopherspelt/.pyenv/versions/3.11.0/lib/python3.11/site-packages (from requests>=2.19.0->datasets) (2022.12.7)\n",
      "Requirement already satisfied: python-dateutil>=2.8.1 in /Users/christopherspelt/.pyenv/versions/3.11.0/lib/python3.11/site-packages (from pandas->datasets) (2.8.2)\n",
      "Requirement already satisfied: pytz>=2020.1 in /Users/christopherspelt/.pyenv/versions/3.11.0/lib/python3.11/site-packages (from pandas->datasets) (2022.7.1)\n",
      "Requirement already satisfied: six>=1.5 in /Users/christopherspelt/.pyenv/versions/3.11.0/lib/python3.11/site-packages (from python-dateutil>=2.8.1->pandas->datasets) (1.16.0)\n",
      "Requirement already satisfied: tiktoken in /Users/christopherspelt/.pyenv/versions/3.11.0/lib/python3.11/site-packages (0.5.1)\n",
      "Requirement already satisfied: regex>=2022.1.18 in /Users/christopherspelt/.pyenv/versions/3.11.0/lib/python3.11/site-packages (from tiktoken) (2023.10.3)\n",
      "Requirement already satisfied: requests>=2.26.0 in /Users/christopherspelt/.pyenv/versions/3.11.0/lib/python3.11/site-packages (from tiktoken) (2.31.0)\n",
      "Requirement already satisfied: charset-normalizer<4,>=2 in /Users/christopherspelt/.pyenv/versions/3.11.0/lib/python3.11/site-packages (from requests>=2.26.0->tiktoken) (3.1.0)\n",
      "Requirement already satisfied: idna<4,>=2.5 in /Users/christopherspelt/.pyenv/versions/3.11.0/lib/python3.11/site-packages (from requests>=2.26.0->tiktoken) (3.4)\n",
      "Requirement already satisfied: urllib3<3,>=1.21.1 in /Users/christopherspelt/.pyenv/versions/3.11.0/lib/python3.11/site-packages (from requests>=2.26.0->tiktoken) (1.26.15)\n",
      "Requirement already satisfied: certifi>=2017.4.17 in /Users/christopherspelt/.pyenv/versions/3.11.0/lib/python3.11/site-packages (from requests>=2.26.0->tiktoken) (2022.12.7)\n"
     ]
    }
   ],
   "source": [
    "!pip install datasets\n",
    "!pip install tiktoken"
   ]
  },
  {
   "cell_type": "code",
   "execution_count": 10,
   "metadata": {},
   "outputs": [
    {
     "name": "stderr",
     "output_type": "stream",
     "text": [
      "/Users/christopherspelt/.pyenv/versions/3.11.0/lib/python3.11/site-packages/tqdm/auto.py:21: TqdmWarning: IProgress not found. Please update jupyter and ipywidgets. See https://ipywidgets.readthedocs.io/en/stable/user_install.html\n",
      "  from .autonotebook import tqdm as notebook_tqdm\n"
     ]
    },
    {
     "name": "stdout",
     "output_type": "stream",
     "text": [
      "Alan Mathison Turing OBE FRS (London, 23 June 1912 – Wilmslow, Cheshire, 7 June 1954) was an English mathematician and computer scientist. He was born in Maida Vale, London.\n",
      "\n",
      "Early life and family \n",
      "Alan Turing was born in Maida Vale, London on 23 June 1912. His father was part of a family of merchants from Scotland. His mother, Ethel Sara, was the daughter of an engineer.\n",
      "\n",
      "Education \n",
      "Turing went to St. Michael's, a school at 20 Charles Road, St Leonards-on-sea, when he was five years old.\n",
      "\"This is only a foretaste of what is to come, and only the shadow of what is going to be.” – Alan Turing.\n",
      "\n",
      "The Stoney family were once prominent landlords, here in North Tipperary. His mother Ethel Sara Stoney (1881–1976) was daughter of Edward Waller Stoney (Borrisokane, North Tipperary) and Sarah Crawford (Cartron Abbey, Co. Longford); Protestant Anglo-Irish gentry.\n",
      "\n",
      "Educated in Dublin at Alexandra School and College; on October 1st 1907 she married Julius Mathison Turing, latter son of Reverend John Robert Turing and Fanny Boyd, in Dublin. Born on June 23rd 1912, Alan Turing would go on to be regarded as one of the greatest figures of the twentieth century.\n",
      "\n",
      "A brilliant mathematician and cryptographer Alan was to become the founder of modern-day computer science and artificial intelligence; designing a machine at Bletchley Park to break secret Enigma encrypted messages used by the Nazi German war machine to protect sensitive commercial, diplomatic and military communications during World War 2. Thus, Turing made the single biggest contribution to the Allied victory in the war against Nazi Germany, possibly saving the lives of an estimated 2 million people, through his effort in shortening World War II.\n",
      "\n",
      "In 2013, almost 60 years later, Turing received a posthumous Royal Pardon from Queen Elizabeth II. Today, the “Turing law” grants an automatic pardon to men who died before the law came into force, making it possible for living convicted gay men to seek pardons for offences now no longer on the statute book.\n",
      "\n",
      "Alas, Turing accidentally or otherwise lost his life in 1954, having been subjected by a British court to chemical castration, thus avoiding a custodial sentence. He is known to have ended his life at the age of 41 years, by eating an apple laced with cyanide.\n",
      "\n",
      "Career \n",
      "Turing was one of the people who worked on the first computers. He created the theoretical  Turing machine in 1936. The machine was imaginary, but it included the idea of a computer program.\n",
      "\n",
      "Turing was interested in artificial intelligence. He proposed the Turing test, to say when a machine could be called \"intelligent\". A computer could be said to \"think\" if a human talking with it could not tell it was a machine.\n",
      "\n",
      "During World War II, Turing worked with others to break German ciphers (secret messages). He  worked for the Government Code and Cypher School (GC&CS) at Bletchley Park, Britain's codebreaking centre that produced Ultra intelligence.\n",
      "Using cryptanalysis, he helped to break the codes of the Enigma machine. After that, he worked on other German codes.\n",
      "\n",
      "From 1945 to 1947, Turing worked on the design of the ACE (Automatic Computing Engine) at the National Physical Laboratory. He presented a paper on 19 February 1946. That paper was \"the first detailed design of a stored-program computer\". Although it was possible to build ACE, there were delays in starting the project. In late 1947 he returned to Cambridge for a sabbatical year. While he was at Cambridge, the Pilot ACE was built without him. It ran its first program on 10 May 1950.\n",
      "\n",
      "Private life \n",
      "Turing was a homosexual man. In 1952, he admitted having had sex with a man in England. At that time, homosexual acts were illegal. Turing was convicted. He had to choose between going to jail and taking hormones to lower his sex drive. He decided to take the hormones. After his punishment, he became impotent. He also grew breasts.\n",
      "\n",
      "In May 2012, a private member's bill was put before the House of Lords to grant Turing a statutory pardon. In July 2013, the government supported it. A royal pardon was granted on 24 December 2013.\n",
      "\n",
      "Death \n",
      "In 1954, Turing died from cyanide poisoning. The cyanide came from either an apple which was poisoned with cyanide, or from water that had cyanide in it. The reason for the confusion is that the police never tested the apple for cyanide. It is also suspected that he committed suicide.\n",
      "\n",
      "The treatment forced on him is now believed to be very wrong. It is against medical ethics and international laws of human rights. In August 2009, a petition asking the British Government to apologise to Turing for punishing him for being a homosexual was started. The petition received thousands of signatures. Prime Minister Gordon Brown acknowledged the petition. He called Turing's treatment \"appalling\".\n",
      "\n",
      "References\n",
      "\n",
      "Other websites \n",
      "Jack Copeland 2012. Alan Turing: The codebreaker who saved 'millions of lives'. BBC News / Technology \n",
      "\n",
      "English computer scientists\n",
      "English LGBT people\n",
      "English mathematicians\n",
      "Gay men\n",
      "LGBT scientists\n",
      "Scientists from London\n",
      "Suicides by poison\n",
      "Suicides in the United Kingdom\n",
      "1912 births\n",
      "1954 deaths\n",
      "Officers of the Order of the British Empire\n"
     ]
    }
   ],
   "source": [
    "from datasets import load_dataset\n",
    "\n",
    "data = load_dataset(\"wikipedia\", \"20220301.simple\", split='train[:10000]')\n",
    "turing_data = data[6]\n",
    "\n",
    "print(turing_data['text'])"
   ]
  },
  {
   "cell_type": "code",
   "execution_count": 11,
   "metadata": {},
   "outputs": [],
   "source": [
    "import tiktoken\n",
    "\n",
    "tokenizer = tiktoken.get_encoding('cl100k_base')\n",
    "\n",
    "def tiktoken_len(text):\n",
    "    tokens = tokenizer.encode(text, disallowed_special=())\n",
    "    return len(tokens)"
   ]
  },
  {
   "cell_type": "code",
   "execution_count": 12,
   "metadata": {},
   "outputs": [
    {
     "name": "stdout",
     "output_type": "stream",
     "text": [
      "chunk 0: Alan Mathison Turing OBE FRS (London, 23 June 1912 – Wilmslow, Cheshire, 7 June 1954) was an English mathematician and computer\n",
      "chunk 1: and computer scientist. He was born in Maida Vale, London.\n",
      "chunk 2: Early life and family\n",
      "chunk 3: Alan Turing was born in Maida Vale, London on 23 June 1912. His father was part of a family of merchants from Scotland. His mother, Ethel Sara, was the\n",
      "chunk 4: was the daughter of an engineer.\n",
      "chunk 5: Education \n",
      "Turing went to St. Michael's, a school at 20 Charles Road, St Leonards-on-sea, when he was five years old.\n",
      "chunk 6: \"This is only a foretaste of what is to come, and only the shadow of what is going to be.” – Alan Turing.\n",
      "chunk 7: The Stoney family were once prominent landlords, here in North Tipperary. His mother Ethel Sara Stoney (1881–1976) was daughter of Edward Waller Stoney\n",
      "chunk 8: Stoney (Borrisokane, North Tipperary) and Sarah Crawford (Cartron Abbey, Co. Longford); Protestant Anglo-Irish gentry.\n",
      "chunk 9: Educated in Dublin at Alexandra School and College; on October 1st 1907 she married Julius Mathison Turing, latter son of Reverend John Robert Turing and Fanny Boyd, in\n",
      "chunk 10: in Dublin. Born on June 23rd 1912, Alan Turing would go on to be regarded as one of the greatest figures of the twentieth century.\n",
      "chunk 11: A brilliant mathematician and cryptographer Alan was to become the founder of modern-day computer science and artificial intelligence; designing a machine at Bletchley Park to break secret Enigma encrypted messages used\n",
      "chunk 12: messages used by the Nazi German war machine to protect sensitive commercial, diplomatic and military communications during World War 2. Thus, Turing made the single biggest contribution to the Allied victory in the war against Nazi\n",
      "chunk 13: against Nazi Germany, possibly saving the lives of an estimated 2 million people, through his effort in shortening World War II.\n",
      "chunk 14: In 2013, almost 60 years later, Turing received a posthumous Royal Pardon from Queen Elizabeth II. Today, the “Turing law” grants an automatic pardon to men\n",
      "chunk 15: to men who died before the law came into force, making it possible for living convicted gay men to seek pardons for offences now no longer on the statute book.\n",
      "chunk 16: Alas, Turing accidentally or otherwise lost his life in 1954, having been subjected by a British court to chemical castration, thus avoiding a custodial sentence. He is known to have\n",
      "chunk 17: to have ended his life at the age of 41 years, by eating an apple laced with cyanide.\n",
      "chunk 18: Career\n",
      "chunk 19: Turing was one of the people who worked on the first computers. He created the theoretical  Turing machine in 1936. The machine was imaginary, but it included the idea of a computer\n",
      "chunk 20: a computer program.\n",
      "chunk 21: Turing was interested in artificial intelligence. He proposed the Turing test, to say when a machine could be called \"intelligent\". A computer could be said to \"think\" if a human talking\n",
      "chunk 22: human talking with it could not tell it was a machine.\n",
      "chunk 23: During World War II, Turing worked with others to break German ciphers (secret messages). He  worked for the Government Code and Cypher School (GC&CS) at Bletchley\n",
      "chunk 24: Park, Britain's codebreaking centre that produced Ultra intelligence.\n",
      "chunk 25: Using cryptanalysis, he helped to break the codes of the Enigma machine. After that, he worked on other German codes.\n",
      "chunk 26: From 1945 to 1947, Turing worked on the design of the ACE (Automatic Computing Engine) at the National Physical Laboratory. He presented a paper on 19 February\n",
      "chunk 27: February 1946. That paper was \"the first detailed design of a stored-program computer\". Although it was possible to build ACE, there were delays in starting the project. In late 1947\n",
      "chunk 28: he returned to Cambridge for a sabbatical year. While he was at Cambridge, the Pilot ACE was built without him. It ran its first program on 10 May 1950.\n",
      "chunk 29: Private life\n",
      "chunk 30: Turing was a homosexual man. In 1952, he admitted having had sex with a man in England. At that time, homosexual acts were illegal. Turing was convicted. He had to\n",
      "chunk 31: had to choose between going to jail and taking hormones to lower his sex drive. He decided to take the hormones. After his punishment, he became impotent. He also grew breasts.\n",
      "chunk 32: In May 2012, a private member's bill was put before the House of Lords to grant Turing a statutory pardon. In July 2013, the government supported it. A royal pardon\n",
      "chunk 33: royal pardon was granted on 24 December 2013.\n",
      "chunk 34: Death\n",
      "chunk 35: In 1954, Turing died from cyanide poisoning. The cyanide came from either an apple which was poisoned with cyanide, or from water that had cyanide in it. The reason\n",
      "chunk 36: The reason for the confusion is that the police never tested the apple for cyanide. It is also suspected that he committed suicide.\n",
      "chunk 37: The treatment forced on him is now believed to be very wrong. It is against medical ethics and international laws of human rights. In August 2009, a petition asking the British Government to apologise\n",
      "chunk 38: to apologise to Turing for punishing him for being a homosexual was started. The petition received thousands of signatures. Prime Minister Gordon Brown acknowledged the petition. He called Turing's treatment \"appalling\".\n",
      "chunk 39: References\n",
      "\n",
      "Other websites \n",
      "Jack Copeland 2012. Alan Turing: The codebreaker who saved 'millions of lives'. BBC News / Technology\n",
      "chunk 40: English computer scientists\n",
      "English LGBT people\n",
      "English mathematicians\n",
      "Gay men\n",
      "LGBT scientists\n",
      "Scientists from London\n",
      "Suicides by poison\n",
      "Suicides in the United Kingdom\n",
      "1912 births\n",
      "chunk 41: 1954 deaths\n",
      "Officers of the Order of the British Empire\n"
     ]
    }
   ],
   "source": [
    "from langchain.text_splitter import RecursiveCharacterTextSplitter\n",
    "\n",
    "text_splitter = RecursiveCharacterTextSplitter(\n",
    "    chunk_size=40,\n",
    "    chunk_overlap=2,\n",
    "    length_function=tiktoken_len,\n",
    "    separators=[\"\\n\\n\", \"\\n\", \" \", \"\"]\n",
    ")\n",
    "\n",
    "chunks = text_splitter.split_text(turing_data['text'])\n",
    "for i, chunk in enumerate(chunks):\n",
    "    print(f\"chunk {i}: {chunk}\")"
   ]
  },
  {
   "cell_type": "code",
   "execution_count": 13,
   "metadata": {},
   "outputs": [
    {
     "name": "stdout",
     "output_type": "stream",
     "text": [
      "chunk 0: [68724, 4242, 3416, 95530, 507, 11855, 435, 11706, 320, 40672, 11, 220, 1419, 5651, 220, 7529, 17, 1389, 10785, 1026, 10516, 11, 921, 90345, 11, 220, 22, 5651, 220, 6280, 19, 8, 574, 459, 6498, 21651, 1122, 323, 6500]\n",
      "chunk 1: [438, 6500, 28568, 13, 1283, 574, 9405, 304, 386, 36544, 55069, 11, 7295, 13]\n",
      "chunk 2: [42298, 2324, 323, 3070]\n",
      "chunk 3: [68724, 95530, 574, 9405, 304, 386, 36544, 55069, 11, 7295, 389, 220, 1419, 5651, 220, 7529, 17, 13, 5414, 7126, 574, 961, 315, 264, 3070, 315, 42870, 505, 19627, 13, 5414, 6691, 11, 14693, 301, 44020, 11, 574, 279]\n",
      "chunk 4: [16514, 279, 10003, 315, 459, 24490, 13]\n",
      "chunk 5: [40234, 720, 51, 1711, 4024, 311, 800, 13, 8096, 596, 11, 264, 2978, 520, 220, 508, 15274, 9728, 11, 800, 21605, 2402, 10539, 7962, 64, 11, 994, 568, 574, 4330, 1667, 2362, 13]\n",
      "chunk 6: [22244, 374, 1193, 264, 2291, 83, 5642, 315, 1148, 374, 311, 2586, 11, 323, 1193, 279, 12737, 315, 1148, 374, 2133, 311, 387, 2029, 1389, 26349, 95530, 13]\n",
      "chunk 7: [791, 800, 2596, 3070, 1051, 3131, 21102, 64729, 11, 1618, 304, 4892, 30973, 716, 661, 13, 5414, 6691, 14693, 301, 44020, 800, 2596, 320, 9367, 16, 4235, 4468, 21, 8, 574, 10003, 315, 22653, 9935, 261, 800, 2596]\n",
      "chunk 8: [626, 2596, 320, 33, 98416, 80686, 11, 4892, 30973, 716, 661, 8, 323, 21077, 54276, 320, 9028, 35785, 65555, 11, 3623, 13, 5843, 8350, 1237, 60753, 60259, 22197, 95007, 342, 4177, 13]\n",
      "chunk 9: [98982, 660, 304, 33977, 520, 75116, 6150, 323, 9304, 26, 389, 6664, 220, 16, 267, 220, 7028, 22, 1364, 12502, 70345, 4242, 3416, 95530, 11, 15629, 4538, 315, 83279, 408, 3842, 8563, 95530, 323, 435, 13184, 63721, 11, 304]\n",
      "chunk 10: [258, 33977, 13, 38916, 389, 5651, 220, 1419, 6634, 220, 7529, 17, 11, 26349, 95530, 1053, 733, 389, 311, 387, 27458, 439, 832, 315, 279, 12474, 12678, 315, 279, 62520, 9478, 13]\n",
      "chunk 11: [32, 20333, 21651, 1122, 323, 14774, 42606, 26349, 574, 311, 3719, 279, 19533, 315, 6617, 11477, 6500, 8198, 323, 21075, 11478, 26, 30829, 264, 5780, 520, 426, 1169, 331, 3258, 5657, 311, 1464, 6367, 2998, 11750, 25461, 6743, 1511]\n",
      "chunk 12: [16727, 1511, 555, 279, 32527, 6063, 4208, 5780, 311, 6144, 16614, 8518, 11, 34616, 323, 6411, 17320, 2391, 4435, 5111, 220, 17, 13, 14636, 11, 95530, 1903, 279, 3254, 8706, 19035, 311, 279, 61855, 12845, 304, 279, 4208, 2403, 32527]\n",
      "chunk 13: [69849, 32527, 10057, 11, 11000, 14324, 279, 6439, 315, 459, 13240, 220, 17, 3610, 1274, 11, 1555, 813, 5149, 304, 2875, 6147, 4435, 5111, 8105, 13]\n",
      "chunk 14: [644, 220, 679, 18, 11, 4661, 220, 1399, 1667, 3010, 11, 95530, 4036, 264, 1772, 28400, 788, 16591, 393, 46396, 505, 16657, 21393, 8105, 13, 11450, 11, 279, 1054, 51, 1711, 2383, 863, 25076, 459, 17392, 65268, 311, 3026]\n",
      "chunk 15: [998, 3026, 889, 8636, 1603, 279, 2383, 3782, 1139, 5457, 11, 3339, 433, 3284, 369, 5496, 23959, 8485, 3026, 311, 6056, 91047, 2439, 369, 51312, 1457, 912, 5129, 389, 279, 35786, 2363, 13]\n",
      "chunk 16: [2149, 300, 11, 95530, 33484, 477, 6062, 5675, 813, 2324, 304, 220, 6280, 19, 11, 3515, 1027, 38126, 555, 264, 8013, 5590, 311, 11742, 2211, 55681, 11, 8617, 31526, 264, 16973, 90169, 11914, 13, 1283, 374, 3967, 311, 617]\n",
      "chunk 17: [998, 617, 9670, 813, 2324, 520, 279, 4325, 315, 220, 3174, 1667, 11, 555, 12459, 459, 24149, 326, 4535, 449, 58988, 579, 13]\n",
      "chunk 18: [91293]\n",
      "chunk 19: [51, 1711, 574, 832, 315, 279, 1274, 889, 6575, 389, 279, 1176, 19002, 13, 1283, 3549, 279, 32887, 220, 95530, 5780, 304, 220, 7285, 21, 13, 578, 5780, 574, 51052, 11, 719, 433, 5343, 279, 4623, 315, 264, 6500]\n",
      "chunk 20: [64, 6500, 2068, 13]\n",
      "chunk 21: [51, 1711, 574, 8173, 304, 21075, 11478, 13, 1283, 11223, 279, 95530, 1296, 11, 311, 2019, 994, 264, 5780, 1436, 387, 2663, 330, 396, 21149, 3343, 362, 6500, 1436, 387, 1071, 311, 330, 27963, 1, 422, 264, 3823, 7556]\n",
      "chunk 22: [26380, 7556, 449, 433, 1436, 539, 3371, 433, 574, 264, 5780, 13]\n",
      "chunk 23: [16397, 4435, 5111, 8105, 11, 95530, 6575, 449, 3885, 311, 1464, 6063, 272, 83177, 320, 21107, 6743, 570, 1283, 220, 6575, 369, 279, 10423, 6247, 323, 18221, 29182, 6150, 320, 23710, 5, 6546, 8, 520, 426, 1169, 331, 3258]\n",
      "chunk 24: [64706, 11, 13527, 596, 2082, 37757, 12541, 430, 9124, 29313, 11478, 13]\n",
      "chunk 25: [16834, 14774, 35584, 11, 568, 9087, 311, 1464, 279, 14236, 315, 279, 2998, 11750, 5780, 13, 4740, 430, 11, 568, 6575, 389, 1023, 6063, 14236, 13]\n",
      "chunk 26: [3915, 220, 6393, 20, 311, 220, 6393, 22, 11, 95530, 6575, 389, 279, 2955, 315, 279, 41906, 320, 63890, 46879, 8364, 8, 520, 279, 5165, 28479, 32184, 13, 1283, 10666, 264, 5684, 389, 220, 777, 7552]\n",
      "chunk 27: [33877, 220, 6393, 21, 13, 3011, 5684, 574, 330, 1820, 1176, 11944, 2955, 315, 264, 9967, 67120, 6500, 3343, 10541, 433, 574, 3284, 311, 1977, 41906, 11, 1070, 1051, 32174, 304, 6041, 279, 2447, 13, 763, 3389, 220, 6393, 22]\n",
      "chunk 28: [383, 6052, 311, 24562, 369, 264, 274, 12806, 62172, 1060, 13, 6104, 568, 574, 520, 24562, 11, 279, 45599, 41906, 574, 5918, 2085, 1461, 13, 1102, 10837, 1202, 1176, 2068, 389, 220, 605, 4194, 11356, 220, 6280, 15, 13]\n",
      "chunk 29: [17205, 2324]\n",
      "chunk 30: [51, 1711, 574, 264, 42864, 893, 13, 763, 220, 6280, 17, 11, 568, 16584, 3515, 1047, 1877, 449, 264, 893, 304, 9635, 13, 2468, 430, 892, 11, 42864, 14385, 1051, 12079, 13, 95530, 574, 23959, 13, 1283, 1047, 311]\n",
      "chunk 31: [32345, 311, 5268, 1990, 2133, 311, 17999, 323, 4737, 44315, 311, 4827, 813, 1877, 6678, 13, 1283, 6773, 311, 1935, 279, 44315, 13, 4740, 813, 25060, 11, 568, 6244, 3242, 64632, 13, 1283, 1101, 14264, 37449, 13]\n",
      "chunk 32: [644, 3297, 220, 679, 17, 11, 264, 879, 4562, 596, 4121, 574, 2231, 1603, 279, 4783, 315, 57148, 311, 13500, 95530, 264, 45530, 65268, 13, 763, 5887, 220, 679, 18, 11, 279, 3109, 7396, 433, 13, 362, 30336, 65268]\n",
      "chunk 33: [3433, 278, 65268, 574, 11938, 389, 220, 1187, 6790, 220, 679, 18, 13]\n",
      "chunk 34: [40358]\n",
      "chunk 35: [644, 220, 6280, 19, 11, 95530, 8636, 505, 58988, 579, 52236, 13, 578, 58988, 579, 3782, 505, 3060, 459, 24149, 902, 574, 71598, 449, 58988, 579, 11, 477, 505, 3090, 430, 1047, 58988, 579, 304, 433, 13, 578, 2944]\n",
      "chunk 36: [791, 2944, 369, 279, 22047, 374, 430, 279, 4379, 2646, 12793, 279, 24149, 369, 58988, 579, 13, 1102, 374, 1101, 24740, 430, 568, 11411, 18639, 13]\n",
      "chunk 37: [791, 6514, 9770, 389, 1461, 374, 1457, 11846, 311, 387, 1633, 5076, 13, 1102, 374, 2403, 6593, 32008, 323, 6625, 7016, 315, 3823, 3268, 13, 763, 6287, 220, 1049, 24, 11, 264, 20984, 10371, 279, 8013, 10423, 311, 82485]\n",
      "chunk 38: [998, 82485, 311, 95530, 369, 75986, 1461, 369, 1694, 264, 42864, 574, 3940, 13, 578, 20984, 4036, 9214, 315, 33728, 13, 12801, 9675, 26952, 10690, 26579, 279, 20984, 13, 1283, 2663, 95530, 596, 6514, 330, 680, 17157, 3343]\n",
      "chunk 39: [32812, 271, 11663, 13335, 720, 33731, 25991, 18615, 220, 679, 17, 13, 26349, 95530, 25, 578, 2082, 65221, 889, 6924, 364, 26064, 919, 315, 6439, 4527, 18588, 5513, 611, 12053]\n",
      "chunk 40: [23392, 6500, 14248, 198, 23392, 23983, 1274, 198, 23392, 21651, 5493, 198, 70475, 3026, 198, 43, 21929, 14248, 198, 72326, 505, 7295, 198, 37559, 76195, 555, 21109, 198, 37559, 76195, 304, 279, 3723, 15422, 198, 7529, 17, 66332]\n",
      "chunk 41: [6280, 19, 16779, 198, 82618, 315, 279, 7365, 315, 279, 8013, 21080]\n"
     ]
    }
   ],
   "source": [
    "encoded_chunks = list(map(tokenizer.encode, chunks))\n",
    "\n",
    "for i, encoded_chunk in enumerate(encoded_chunks):\n",
    "    print(f\"chunk {i}: {encoded_chunk}\")"
   ]
  },
  {
   "cell_type": "code",
   "execution_count": null,
   "metadata": {},
   "outputs": [],
   "source": []
  }
 ],
 "metadata": {
  "kernelspec": {
   "display_name": "Python 3",
   "language": "python",
   "name": "python3"
  },
  "language_info": {
   "codemirror_mode": {
    "name": "ipython",
    "version": 3
   },
   "file_extension": ".py",
   "mimetype": "text/x-python",
   "name": "python",
   "nbconvert_exporter": "python",
   "pygments_lexer": "ipython3",
   "version": "3.11.0"
  }
 },
 "nbformat": 4,
 "nbformat_minor": 2
}
